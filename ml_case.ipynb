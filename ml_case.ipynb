{
  "nbformat": 4,
  "nbformat_minor": 0,
  "metadata": {
    "colab": {
      "provenance": [],
      "authorship_tag": "ABX9TyO5TEpcInKhw5M6Fol1IejE"
    },
    "kernelspec": {
      "name": "python3",
      "display_name": "Python 3"
    },
    "language_info": {
      "name": "python"
    }
  },
  "cells": [
    {
      "cell_type": "markdown",
      "source": [
        "# Feature import"
      ],
      "metadata": {
        "id": "OCuDb5yqDZps"
      }
    },
    {
      "cell_type": "code",
      "execution_count": null,
      "metadata": {
        "id": "hGaQ6cUSu8Hc",
        "colab": {
          "base_uri": "https://localhost:8080/"
        },
        "outputId": "a7d44c07-f35a-4e60-f714-ef37c6aade4d"
      },
      "outputs": [
        {
          "output_type": "stream",
          "name": "stdout",
          "text": [
            "   age           job  marital  education default  balance housing loan  \\\n",
            "0   58    management  married   tertiary      no     2143     yes   no   \n",
            "1   44    technician   single  secondary      no       29     yes   no   \n",
            "2   33  entrepreneur  married  secondary      no        2     yes  yes   \n",
            "3   47   blue-collar  married    unknown      no     1506     yes   no   \n",
            "4   33       unknown   single    unknown      no        1      no   no   \n",
            "\n",
            "   contact  day month  duration  campaign  pdays  previous poutcome   y  \n",
            "0  unknown    5   may       261         1     -1         0  unknown  no  \n",
            "1  unknown    5   may       151         1     -1         0  unknown  no  \n",
            "2  unknown    5   may        76         1     -1         0  unknown  no  \n",
            "3  unknown    5   may        92         1     -1         0  unknown  no  \n",
            "4  unknown    5   may       198         1     -1         0  unknown  no  \n"
          ]
        }
      ],
      "source": [
        "import pandas as pd\n",
        "\n",
        "df = pd.read_csv('/content/bank-full.csv')\n",
        "print(df.head())"
      ]
    },
    {
      "cell_type": "code",
      "source": [
        "for column in df.columns:\n",
        "\n",
        "    if isinstance(df[column][0], str):\n",
        "      unique_categories = df[column].unique()\n",
        "      category_mapping = {category: index for index, category in enumerate(unique_categories)}\n",
        "      df[column] = df[column].map(category_mapping)\n"
      ],
      "metadata": {
        "id": "gS9QgHLCEsbR"
      },
      "execution_count": null,
      "outputs": []
    },
    {
      "cell_type": "code",
      "source": [
        "Xy = df.values\n",
        "print(df.head())"
      ],
      "metadata": {
        "colab": {
          "base_uri": "https://localhost:8080/"
        },
        "id": "G7Xx6MZrFdOg",
        "outputId": "dee9d6b5-952b-4b54-b887-ec192e14058a"
      },
      "execution_count": null,
      "outputs": [
        {
          "output_type": "stream",
          "name": "stdout",
          "text": [
            "   age  job  marital  education  default  balance  housing  loan  contact  \\\n",
            "0   58    0        0          0        0     2143        0     0        0   \n",
            "1   44    1        1          1        0       29        0     0        0   \n",
            "2   33    2        0          1        0        2        0     1        0   \n",
            "3   47    3        0          2        0     1506        0     0        0   \n",
            "4   33    4        1          2        0        1        1     0        0   \n",
            "\n",
            "   day  month  duration  campaign  pdays  previous  poutcome  y  \n",
            "0    5      0       261         1     -1         0         0  0  \n",
            "1    5      0       151         1     -1         0         0  0  \n",
            "2    5      0        76         1     -1         0         0  0  \n",
            "3    5      0        92         1     -1         0         0  0  \n",
            "4    5      0       198         1     -1         0         0  0  \n"
          ]
        }
      ]
    },
    {
      "cell_type": "code",
      "source": [
        "X = Xy[:, :-1]\n",
        "y = Xy[:, -1]"
      ],
      "metadata": {
        "id": "895_tgIWFi0F"
      },
      "execution_count": null,
      "outputs": []
    },
    {
      "cell_type": "code",
      "source": [
        "X_train, X_test, y_train, y_test = train_test_split(X, y, test_size=0.2, random_state=42)"
      ],
      "metadata": {
        "id": "UaIv2y12GF81"
      },
      "execution_count": null,
      "outputs": []
    },
    {
      "cell_type": "markdown",
      "source": [
        "# Logistic regression classifier"
      ],
      "metadata": {
        "id": "MSPo-xYXVb1q"
      }
    },
    {
      "cell_type": "code",
      "source": [
        "from sklearn.model_selection import train_test_split\n",
        "from sklearn.linear_model import LogisticRegression\n",
        "from sklearn.metrics import accuracy_score\n",
        "from sklearn.metrics import accuracy_score\n",
        "from sklearn.preprocessing import OneHotEncoder, StandardScaler  # feature  preprocessing\n",
        "from sklearn.model_selection import train_test_split\n",
        "import numpy as np"
      ],
      "metadata": {
        "id": "NRO7Ue1LMc21"
      },
      "execution_count": null,
      "outputs": []
    },
    {
      "cell_type": "code",
      "source": [
        "classifier = LogisticRegression(penalty='l2')\n",
        "classifier.fit(X_train, y_train)\n",
        "\n",
        "y_pred = classifier.predict(X_test)\n",
        "\n",
        "accuracy = accuracy_score(y_test, y_pred)\n",
        "print(accuracy)"
      ],
      "metadata": {
        "colab": {
          "base_uri": "https://localhost:8080/"
        },
        "id": "VzS3uu6AHrm0",
        "outputId": "3d3263ab-7768-4a03-8d93-3cd75d2366ea"
      },
      "execution_count": null,
      "outputs": [
        {
          "output_type": "stream",
          "name": "stdout",
          "text": [
            "0.8854362490324007\n"
          ]
        },
        {
          "output_type": "stream",
          "name": "stderr",
          "text": [
            "/usr/local/lib/python3.10/dist-packages/sklearn/linear_model/_logistic.py:458: ConvergenceWarning: lbfgs failed to converge (status=1):\n",
            "STOP: TOTAL NO. of ITERATIONS REACHED LIMIT.\n",
            "\n",
            "Increase the number of iterations (max_iter) or scale the data as shown in:\n",
            "    https://scikit-learn.org/stable/modules/preprocessing.html\n",
            "Please also refer to the documentation for alternative solver options:\n",
            "    https://scikit-learn.org/stable/modules/linear_model.html#logistic-regression\n",
            "  n_iter_i = _check_optimize_result(\n"
          ]
        }
      ]
    },
    {
      "cell_type": "code",
      "source": [
        "categorical_features = ['job', 'marital', 'education', 'default', 'housing', 'loan', 'contact']\n",
        "onehot_encoder = OneHotEncoder(sparse=False)\n",
        "X_categorical_encoded = onehot_encoder.fit_transform(df[categorical_features])\n",
        "\n",
        "numerical_features = ['age', 'balance', 'duration', 'campaign', 'pdays', 'previous']\n",
        "scaler = StandardScaler()\n",
        "X_numerical_scaled = scaler.fit_transform(df[numerical_features])\n",
        "\n",
        "X = np.concatenate((X_categorical_encoded, X_numerical_scaled), axis=1)\n",
        "y = df['y']\n",
        "\n",
        "X_train, X_test, y_train, y_test = train_test_split(X, y, test_size=0.2, random_state=42)\n"
      ],
      "metadata": {
        "colab": {
          "base_uri": "https://localhost:8080/"
        },
        "id": "WpHDSzrUKH6N",
        "outputId": "a90ce6b6-ad41-425d-f0f2-c1ecd0858c41"
      },
      "execution_count": null,
      "outputs": [
        {
          "output_type": "stream",
          "name": "stderr",
          "text": [
            "/usr/local/lib/python3.10/dist-packages/sklearn/preprocessing/_encoders.py:868: FutureWarning: `sparse` was renamed to `sparse_output` in version 1.2 and will be removed in 1.4. `sparse_output` is ignored unless you leave `sparse` to its default value.\n",
            "  warnings.warn(\n"
          ]
        }
      ]
    },
    {
      "cell_type": "code",
      "source": [
        "classifier = LogisticRegression(penalty='l2')\n",
        "classifier.fit(X_train, y_train)\n",
        "\n",
        "y_pred = classifier.predict(X_test)\n",
        "\n",
        "accuracy = accuracy_score(y_test, y_pred)\n",
        "print(accuracy)"
      ],
      "metadata": {
        "colab": {
          "base_uri": "https://localhost:8080/"
        },
        "id": "GYhW_mbIMZRd",
        "outputId": "32c22493-2274-4b36-eed9-e8d3517846e0"
      },
      "execution_count": null,
      "outputs": [
        {
          "output_type": "stream",
          "name": "stdout",
          "text": [
            "0.8870949906004645\n"
          ]
        },
        {
          "output_type": "stream",
          "name": "stderr",
          "text": [
            "/usr/local/lib/python3.10/dist-packages/sklearn/linear_model/_logistic.py:458: ConvergenceWarning: lbfgs failed to converge (status=1):\n",
            "STOP: TOTAL NO. of ITERATIONS REACHED LIMIT.\n",
            "\n",
            "Increase the number of iterations (max_iter) or scale the data as shown in:\n",
            "    https://scikit-learn.org/stable/modules/preprocessing.html\n",
            "Please also refer to the documentation for alternative solver options:\n",
            "    https://scikit-learn.org/stable/modules/linear_model.html#logistic-regression\n",
            "  n_iter_i = _check_optimize_result(\n"
          ]
        }
      ]
    },
    {
      "cell_type": "code",
      "source": [
        "classifier = LogisticRegression(penalty='l2')\n",
        "classifier.fit(X_train_unique_sub, y_train_unique_sub)\n",
        "\n",
        "y_pred = classifier.predict(X_test)\n",
        "\n",
        "accuracy = accuracy_score(y_test, y_pred)\n",
        "print(accuracy)"
      ],
      "metadata": {
        "colab": {
          "base_uri": "https://localhost:8080/"
        },
        "id": "hiSYYj7aS0aU",
        "outputId": "0d63b00f-23c1-45d5-b31c-1c354d58d251"
      },
      "execution_count": null,
      "outputs": [
        {
          "output_type": "stream",
          "name": "stdout",
          "text": [
            "0.8037155811124627\n"
          ]
        }
      ]
    },
    {
      "cell_type": "markdown",
      "source": [
        "# Random Forest, to tackle classes imbalance"
      ],
      "metadata": {
        "id": "lA3gZvc9N1OS"
      }
    },
    {
      "cell_type": "code",
      "source": [
        "from sklearn.ensemble import RandomForestClassifier\n",
        "from sklearn.metrics import accuracy_score\n",
        "\n",
        "classifier = RandomForestClassifier()\n",
        "classifier.fit(X_train, y_train)\n",
        "\n",
        "y_pred = classifier.predict(X_test)\n",
        "\n",
        "accuracy = accuracy_score(y_test, y_pred)\n",
        "print(\"Accuracy:\", accuracy)\n"
      ],
      "metadata": {
        "colab": {
          "base_uri": "https://localhost:8080/"
        },
        "id": "EWrsdbUQNnag",
        "outputId": "ba20be01-35fb-408b-c23d-4355fe6e59c1"
      },
      "execution_count": null,
      "outputs": [
        {
          "output_type": "stream",
          "name": "stdout",
          "text": [
            "Accuracy: 0.8941722879575362\n"
          ]
        }
      ]
    },
    {
      "cell_type": "code",
      "source": [
        "y_train_reshaped = (y_train.values).reshape(-1, 1)\n",
        "\n",
        "Xy_train = np.concatenate((X_train, y_train_reshaped), axis=1)\n",
        "Xy_unique = np.unique(Xy_train, axis=0)\n",
        "\n",
        "X_train_unique = Xy_unique[:, :-1]\n",
        "y_train_unique = Xy_unique[:, -1]"
      ],
      "metadata": {
        "id": "ps_Ta4moNwt4"
      },
      "execution_count": null,
      "outputs": []
    },
    {
      "cell_type": "code",
      "source": [
        "Xy_unique.shape"
      ],
      "metadata": {
        "colab": {
          "base_uri": "https://localhost:8080/"
        },
        "id": "ef1EesBJOnSc",
        "outputId": "e106bbb3-eb27-42c8-928a-875b4fe0872e"
      },
      "execution_count": null,
      "outputs": [
        {
          "output_type": "execute_result",
          "data": {
            "text/plain": [
              "(36167, 35)"
            ]
          },
          "metadata": {},
          "execution_count": 62
        }
      ]
    },
    {
      "cell_type": "code",
      "source": [
        "counts = np.bincount(Xy_unique[:, -1].astype(np.int64))\n",
        "print(counts)"
      ],
      "metadata": {
        "colab": {
          "base_uri": "https://localhost:8080/"
        },
        "id": "I1qWvLDvREbC",
        "outputId": "2073e337-31bc-4fca-81dc-94b0d1344dd7"
      },
      "execution_count": null,
      "outputs": [
        {
          "output_type": "stream",
          "name": "stdout",
          "text": [
            "[31969  4198]\n"
          ]
        }
      ]
    },
    {
      "cell_type": "markdown",
      "source": [
        "# Balancing classes: random subsampler fails"
      ],
      "metadata": {
        "id": "6LHvMtt0SW7i"
      }
    },
    {
      "cell_type": "code",
      "source": [
        "import numpy as np\n",
        "\n",
        "labels = Xy_unique[:, -1].astype(np.int64)\n",
        "unique_labels = np.unique(labels)\n",
        "\n",
        "min_count = np.min(np.bincount(labels))\n",
        "subsampled_indices = []\n",
        "\n",
        "for label in unique_labels:\n",
        "    indices = np.where(labels == label)[0]\n",
        "    selected_indices = np.random.choice(indices, min_count, replace=False)\n",
        "    subsampled_indices.extend(selected_indices)\n",
        "\n",
        "Xy_unique_subs = Xy_unique[subsampled_indices]\n",
        "\n",
        "X_train_unique_sub = Xy_unique_subs[:, :-1]\n",
        "y_train_unique_sub = Xy_unique_subs[:, -1]"
      ],
      "metadata": {
        "id": "DP_pnBa9SaF1"
      },
      "execution_count": null,
      "outputs": []
    },
    {
      "cell_type": "code",
      "source": [
        "classifier = RandomForestClassifier()\n",
        "classifier.fit(X_train_unique, y_train_unique)\n",
        "\n",
        "y_pred = classifier.predict(X_test)\n",
        "\n",
        "accuracy = accuracy_score(y_test, y_pred)\n",
        "print(\"Accuracy:\", accuracy)"
      ],
      "metadata": {
        "colab": {
          "base_uri": "https://localhost:8080/"
        },
        "id": "O0M9Jd8aPoi8",
        "outputId": "1f77ad29-c0e1-42cc-c656-2f6680d962ff"
      },
      "execution_count": null,
      "outputs": [
        {
          "output_type": "stream",
          "name": "stdout",
          "text": [
            "Accuracy: 0.8946146190423532\n"
          ]
        }
      ]
    },
    {
      "cell_type": "markdown",
      "source": [
        "# Feature importance"
      ],
      "metadata": {
        "id": "mbCY9fadP_iJ"
      }
    },
    {
      "cell_type": "code",
      "source": [
        "feature_importances = classifier.feature_importances_\n",
        "\n",
        "print(feature_importances)"
      ],
      "metadata": {
        "colab": {
          "base_uri": "https://localhost:8080/"
        },
        "id": "PUH6SsoxPvBF",
        "outputId": "b82d1950-258a-4ef9-e42a-b0c363a57132"
      },
      "execution_count": null,
      "outputs": [
        {
          "output_type": "stream",
          "name": "stdout",
          "text": [
            "[0.0103504  0.01115745 0.00455139 0.00945035 0.00176606 0.00549551\n",
            " 0.01005207 0.00724328 0.00556307 0.00551504 0.00407617 0.00444178\n",
            " 0.01052835 0.00916257 0.00762503 0.01097123 0.01213173 0.00570049\n",
            " 0.00784998 0.00152884 0.00139728 0.01591039 0.01542166 0.007236\n",
            " 0.0071586  0.00997577 0.00999927 0.00501203 0.141949   0.15730434\n",
            " 0.32765271 0.0525655  0.06387545 0.03938119]\n"
          ]
        }
      ]
    },
    {
      "cell_type": "code",
      "source": [
        "import matplotlib.pyplot as plt\n",
        "\n",
        "plt.bar(range(len(feature_importances)), feature_importances)\n",
        "plt.show()"
      ],
      "metadata": {
        "colab": {
          "base_uri": "https://localhost:8080/",
          "height": 430
        },
        "id": "iLNSqsSrQNih",
        "outputId": "acf14a90-77f5-43c4-e192-5da4a9e37087"
      },
      "execution_count": null,
      "outputs": [
        {
          "output_type": "display_data",
          "data": {
            "text/plain": [
              "<Figure size 640x480 with 1 Axes>"
            ],
            "image/png": "[encoded data removed]"
          },
          "metadata": {}
        }
      ]
    },
    {
      "cell_type": "code",
      "source": [
        "X_categorical_encoded.shape"
      ],
      "metadata": {
        "colab": {
          "base_uri": "https://localhost:8080/"
        },
        "id": "xemmBLtiQnwE",
        "outputId": "e3057afb-d7d0-41d4-8bbc-1f48345c9baa"
      },
      "execution_count": null,
      "outputs": [
        {
          "output_type": "execute_result",
          "data": {
            "text/plain": [
              "(45211, 28)"
            ]
          },
          "metadata": {},
          "execution_count": 90
        }
      ]
    },
    {
      "cell_type": "markdown",
      "source": [
        "# Here's a brief explanation of what the StandardScaler does:\n",
        "\n",
        "Centering: The StandardScaler centers the data by subtracting the mean of each feature from the corresponding feature values. This ensures that the mean of each feature becomes zero.\n",
        "\n",
        "Scaling: After centering, the StandardScaler scales the centered data by dividing each feature by its standard deviation. This step ensures that each feature has a unit variance.\n",
        "\n"
      ],
      "metadata": {
        "id": "C28TmqcYVDLj"
      }
    },
    {
      "cell_type": "code",
      "source": [
        "X_numerical_scaled.shape # ['age', 'balance', 'duration', 'campaign', 'pdays', 'previous']"
      ],
      "metadata": {
        "colab": {
          "base_uri": "https://localhost:8080/"
        },
        "id": "qzdz13QFTat4",
        "outputId": "bec7d647-b2a6-4bd3-d3c9-ad42c7cb9dc3"
      },
      "execution_count": null,
      "outputs": [
        {
          "output_type": "execute_result",
          "data": {
            "text/plain": [
              "(45211, 6)"
            ]
          },
          "metadata": {},
          "execution_count": 92
        }
      ]
    },
    {
      "cell_type": "code",
      "source": [
        "np.max(X_numerical_scaled)"
      ],
      "metadata": {
        "colab": {
          "base_uri": "https://localhost:8080/"
        },
        "id": "AaKHZC9WT1br",
        "outputId": "155894b7-ee52-41da-df68-99f563565268"
      },
      "execution_count": null,
      "outputs": [
        {
          "output_type": "execute_result",
          "data": {
            "text/plain": [
              "119.13598229870267"
            ]
          },
          "metadata": {},
          "execution_count": 95
        }
      ]
    },
    {
      "cell_type": "code",
      "source": [],
      "metadata": {
        "id": "tvPkv7uGUm6Z"
      },
      "execution_count": null,
      "outputs": []
    }
  ]
}